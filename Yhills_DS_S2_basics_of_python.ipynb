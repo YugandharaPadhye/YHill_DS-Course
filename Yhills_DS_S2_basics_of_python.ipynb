{
  "nbformat": 4,
  "nbformat_minor": 0,
  "metadata": {
    "colab": {
      "provenance": []
    },
    "kernelspec": {
      "name": "python3",
      "display_name": "Python 3"
    },
    "language_info": {
      "name": "python"
    }
  },
  "cells": [
    {
      "cell_type": "code",
      "execution_count": 6,
      "metadata": {
        "colab": {
          "base_uri": "https://localhost:8080/"
        },
        "id": "XsLbQHAkORz6",
        "outputId": "356b4194-f215-481c-887a-57791a1c242f"
      },
      "outputs": [
        {
          "output_type": "stream",
          "name": "stdout",
          "text": [
            "xyz\n",
            "True\n"
          ]
        },
        {
          "output_type": "execute_result",
          "data": {
            "text/plain": [
              "(str, complex, bool)"
            ]
          },
          "metadata": {},
          "execution_count": 6
        }
      ],
      "source": [
        "# only _ this special character can be included in the identifier. it can be in the beggining of the identifier.\n",
        "print('xyz')\n",
        "x = 20\n",
        "_x = 'True'\n",
        "x1_ = True\n",
        "print(_x)\n",
        "y = 3 +2j\n",
        "type(_x), type(y), type(x1_)"
      ]
    },
    {
      "cell_type": "code",
      "source": [
        "#string strictly in sigle or double inverted comma.\n",
        "xy = analytics\n",
        "print(xy)"
      ],
      "metadata": {
        "id": "l8uNRXqUU0DI"
      },
      "execution_count": null,
      "outputs": []
    },
    {
      "cell_type": "code",
      "source": [
        "#syntaxerror\n",
        "#an identifier cant start with a numeric\n",
        "1x = 33"
      ],
      "metadata": {
        "id": "VmbjdrePSdaD"
      },
      "execution_count": null,
      "outputs": []
    },
    {
      "cell_type": "code",
      "source": [
        "#nameerror\n",
        "#python is case sensitive\n",
        "Print(y)"
      ],
      "metadata": {
        "id": "DKHbucppSf6V"
      },
      "execution_count": null,
      "outputs": []
    },
    {
      "cell_type": "code",
      "source": [
        "list1 = [ 1, 2, 'hi', True, 3+4j]\n",
        "print(list1)\n",
        "type(list1)"
      ],
      "metadata": {
        "id": "Bqs-F0zOYOAV"
      },
      "execution_count": null,
      "outputs": []
    },
    {
      "cell_type": "code",
      "source": [
        "tuple1 = 1, 2, 'hi', True, 3+4j\n",
        "print(tuple1)\n",
        "type(tuple1)"
      ],
      "metadata": {
        "id": "YXSC5gnpaEdZ"
      },
      "execution_count": null,
      "outputs": []
    },
    {
      "cell_type": "code",
      "source": [
        "set1 = {1, 2, 'hi', True, 3+4j}\n",
        "print(set1)\n",
        "type(set1)"
      ],
      "metadata": {
        "id": "I5HXCl8ya7TQ"
      },
      "execution_count": null,
      "outputs": []
    },
    {
      "cell_type": "code",
      "source": [
        "d = {1:33, 2:'hi', 3: 56.87, 4:[5, 6, 7]}\n",
        "print(d)\n",
        "type(d)"
      ],
      "metadata": {
        "id": "gTbkJ7YUfGnV"
      },
      "execution_count": null,
      "outputs": []
    }
  ]
}