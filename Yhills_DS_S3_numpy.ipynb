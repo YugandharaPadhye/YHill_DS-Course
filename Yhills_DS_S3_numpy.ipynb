{
  "nbformat": 4,
  "nbformat_minor": 0,
  "metadata": {
    "colab": {
      "provenance": []
    },
    "kernelspec": {
      "name": "python3",
      "display_name": "Python 3"
    },
    "language_info": {
      "name": "python"
    }
  },
  "cells": [
    {
      "cell_type": "code",
      "execution_count": 2,
      "metadata": {
        "id": "B1WrE1bWg5Qt"
      },
      "outputs": [],
      "source": [
        "#numpy is the library in python for arithmatic operations. creating arrays, different operations on araays, matrices are possible using numpy library.\n",
        "#import satement\n",
        "import numpy as np"
      ]
    },
    {
      "cell_type": "code",
      "source": [
        "#creation of array\n",
        "arr = np.array([33, 44, 55, 66])\n",
        "print(type(arr))"
      ],
      "metadata": {
        "id": "Rlu-v_45hrKK"
      },
      "execution_count": null,
      "outputs": []
    },
    {
      "cell_type": "code",
      "source": [
        "#another way to create array\n",
        "a = np.arange(1, 10)\n",
        "print(type(a))\n",
        "print(np.arange(15))\n",
        "#step size argument\n",
        "print(np.arange(1, 10, 2))"
      ],
      "metadata": {
        "id": "0_KUKgB7nfUX"
      },
      "execution_count": null,
      "outputs": []
    },
    {
      "cell_type": "code",
      "source": [
        "print(np.ones(10, int))\n",
        "print(np.ones(10, float))\n",
        "#by default float\n",
        "print(np.ones((4,3)))\n",
        "print(np.zeros(10, int))"
      ],
      "metadata": {
        "id": "Jo0L2C2TkNDM"
      },
      "execution_count": null,
      "outputs": []
    },
    {
      "cell_type": "code",
      "source": [
        "#creation of matrics / multidimentional array \n",
        "listoflist = [[33, 44], [44, 55], [44, 66]]\n",
        "matrix = np.array(listoflist)\n",
        "print(matrix)\n",
        "print(type(matrix))\n",
        "#for identity matrix\n",
        "print(np.eye(3))\n",
        "#transpose of matrix\n",
        "print(matrix.T)"
      ],
      "metadata": {
        "id": "2B7XYH8sh7Hk"
      },
      "execution_count": null,
      "outputs": []
    },
    {
      "cell_type": "code",
      "source": [
        "#array of linearly spaced elements. first 2 arguments for tha range, third for the number of elements.\n",
        "print(np.linspace(0, 1, 5))"
      ],
      "metadata": {
        "id": "BCmRjNCHjXmw"
      },
      "execution_count": null,
      "outputs": []
    },
    {
      "cell_type": "code",
      "source": [
        "#random numbers between o to 1, arguments give matrix size\n",
        "print(np.random.rand(3,2))\n",
        "#random +ve and -ve numbers\n",
        "print(np.random.randn(2, 3))\n",
        "#random integer in the range, range excluding the upper limit\n",
        "print(np.random.randint(1, 3))\n",
        "#array of random intager in tha range, thid argument = number of elements in the array\n",
        "print(np.random.randint(1, 33, 5))"
      ],
      "metadata": {
        "id": "Prn-tWyxoU4O"
      },
      "execution_count": null,
      "outputs": []
    },
    {
      "cell_type": "code",
      "source": [
        "b = np.random.randint(1, 100, 20)\n",
        "#converting an array into a matrix\n",
        "print(b.reshape(2, 10))\n",
        "print(b.reshape(4, 5))\n",
        "#ptinting the minimum value\n",
        "print(b.min())\n",
        "#getting the index of min\n",
        "print(b.argmin())"
      ],
      "metadata": {
        "id": "ALqVmtMwrDSH"
      },
      "execution_count": null,
      "outputs": []
    },
    {
      "cell_type": "code",
      "source": [
        "#slicing of arrays\n",
        "c = np.arange(1, 20)\n",
        "print(c)\n",
        "print(c[4])\n",
        "#taking a specific portion in the given range of indices excluding upper limit\n",
        "print(c[4:9])\n",
        "print(c[0:4])\n",
        "print(c[:4])\n",
        "#adding step size argument\n",
        "print(c[0:8:2])\n",
        "print(c[8:0:-1])\n",
        "print(c[8:0:-2])"
      ],
      "metadata": {
        "id": "qn_UizVctHdD"
      },
      "execution_count": null,
      "outputs": []
    },
    {
      "cell_type": "code",
      "source": [
        "#some operations on arrays\n",
        "d = np.arange(1, 20)\n",
        "print(d)\n",
        "print(d+d)\n",
        "#inexponetial form\n",
        "print(np.exp(d))\n",
        "#taking square root\n",
        "p=np.sqrt(d)\n",
        "print(p)\n",
        "#min,max and index of min,max\n",
        "print(np.min(d))\n",
        "print(np.argmin(d))\n",
        "print(np.max(d))\n",
        "print(np.argmax(d))\n",
        "#taking log to the base e\n",
        "print(np.log(d))\n",
        "#standard daviation, variance, mean\n",
        "print(np.std(d))\n",
        "print(np.var(d))\n",
        "print(np.mean(d))\n",
        "#round off to given decimals\n",
        "print(np.round(p, decimals = 2))\n",
        "#to get unique values\n",
        "q = [1, 4, 1, 2, 7,2, 5, 3, 6, 6, 7]\n",
        "print(q)\n",
        "print(np.unique(q))"
      ],
      "metadata": {
        "id": "UXR50nx6xzpD"
      },
      "execution_count": null,
      "outputs": []
    },
    {
      "cell_type": "code",
      "source": [
        "#what about matrix sclicing?\n",
        "m = np.array([[2, 4, 6, 8], [44, 66, 11, 4], [44, 56, 98, 32]])\n",
        "print(m)\n",
        "#fist number for row, second number for column\n",
        "print(m[2, 2])\n",
        "#only colon means all the rows or columns\n",
        "print(m[:, 3])\n",
        "print(m[1:3, 0:2])\n",
        "print(m[1:3, :2])\n",
        "print(m[2])\n",
        "print(m[1:3,(1,3)])"
      ],
      "metadata": {
        "id": "-gaHboeXvhSK"
      },
      "execution_count": null,
      "outputs": []
    }
  ]
}