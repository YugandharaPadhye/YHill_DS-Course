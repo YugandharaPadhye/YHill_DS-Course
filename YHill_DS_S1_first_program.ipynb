{
  "nbformat": 4,
  "nbformat_minor": 0,
  "metadata": {
    "colab": {
      "provenance": []
    },
    "kernelspec": {
      "name": "python3",
      "display_name": "Python 3"
    },
    "language_info": {
      "name": "python"
    }
  },
  "cells": [
    {
      "cell_type": "code",
      "execution_count": null,
      "metadata": {
        "colab": {
          "base_uri": "https://localhost:8080/"
        },
        "id": "o4-LY2JG37EF",
        "outputId": "a55ac70e-9257-4f2f-8f05-bbd1c1a639e3"
      },
      "outputs": [
        {
          "output_type": "stream",
          "name": "stdout",
          "text": [
            "hello world\n"
          ]
        }
      ],
      "source": [
        "print('hello world')"
      ]
    },
    {
      "cell_type": "code",
      "source": [
        "#myname\n",
        "print('yugandhara')"
      ],
      "metadata": {
        "colab": {
          "base_uri": "https://localhost:8080/"
        },
        "id": "cQKIDj3o5BX2",
        "outputId": "9c080ed7-b4a7-4c7d-9312-acac2b74c8bc"
      },
      "execution_count": null,
      "outputs": [
        {
          "output_type": "stream",
          "name": "stdout",
          "text": [
            "yugandhara\n"
          ]
        }
      ]
    },
    {
      "cell_type": "code",
      "source": [
        "name = 'yugandhara'\n",
        "type(name)\n",
        "x = 2\n",
        "type(x)\n",
        "y= 3.4\n",
        "type(y)\n",
        "z = true\n",
        "type(z)\n"
      ],
      "metadata": {
        "id": "jHRMXlz56wFz"
      },
      "execution_count": null,
      "outputs": []
    }
  ]
}