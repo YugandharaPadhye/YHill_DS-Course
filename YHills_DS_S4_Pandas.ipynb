{
  "nbformat": 4,
  "nbformat_minor": 0,
  "metadata": {
    "colab": {
      "provenance": []
    },
    "kernelspec": {
      "name": "python3",
      "display_name": "Python 3"
    },
    "language_info": {
      "name": "python"
    }
  },
  "cells": [
    {
      "cell_type": "code",
      "execution_count": 21,
      "metadata": {
        "id": "gSvYhyujmsyD"
      },
      "outputs": [],
      "source": [
        "#importing panadas. operating dataset is the use of pandas.\n",
        "import pandas as pd\n",
        "import numpy as np\n",
        "#creating dataframe of given dataset. reading dataset.\n",
        "df=pd.read_csv(\"https://raw.githubusercontent.com/Premalatha-success/Datasets/main/CardioGoodFitness-1.csv\")"
      ]
    },
    {
      "cell_type": "code",
      "source": [
        "#show if there are any missing values\n",
        "df.isnull().sum()"
      ],
      "metadata": {
        "id": "sqsPDX0avCYT"
      },
      "execution_count": null,
      "outputs": []
    },
    {
      "cell_type": "code",
      "source": [
        "df.info()\n",
        "#size of dataset\n",
        "print(df.shape)\n",
        "#datatype\n",
        "print(df.dtypes)\n",
        "#complete decription, min, max, std daviation etc.\n",
        "df.describe(include = 'all')"
      ],
      "metadata": {
        "id": "vT240fxLu1a3"
      },
      "execution_count": null,
      "outputs": []
    },
    {
      "cell_type": "code",
      "source": [
        "#first 5 rows by default, no. of rows in bracket\n",
        "print(df.head(10))\n",
        "#last rows\n",
        "print(df.tail())\n",
        "#only 1 row by default, no.. rows in brackets.\n",
        "print(df.sample(3))"
      ],
      "metadata": {
        "id": "2LcfdY2tu2dC"
      },
      "execution_count": null,
      "outputs": []
    },
    {
      "cell_type": "code",
      "source": [
        "label = ['X', 'y', 'z', 'w']\n",
        "l = [100, 200, 300, 400]\n",
        "arr =np.array([1, 2, 3, 4])\n",
        "d = {'x': 10, 'y': 10, 'z': 40, 'w': 54}\n",
        "#creating a series. applicable for one column only.\n",
        "print(pd.Series(data = l))\n",
        "print(pd.Series(data = l, index = arr))\n",
        "print(pd.Series(l, label))\n",
        "print(pd.Series(d))\n",
        "\n",
        "sports1 = pd.Series([1, 2, 3, 4], index = ['cricket', 'football', 'basketball', 'handball'])\n",
        "print(sports1)\n",
        "sports2 = pd.Series([1, 2, 3, 4], index = ['hocky', 'football', 'basketball', 'kabaddi'])\n",
        "print(sports2)\n",
        "print(sports1+sports2)\n",
        "sports1['cricket']"
      ],
      "metadata": {
        "id": "U2fdJYk8vIKt"
      },
      "execution_count": null,
      "outputs": []
    },
    {
      "cell_type": "code",
      "source": [
        "df1 = pd.DataFrame(np.random.rand(8,5), index = 'a b c d e f g h'.split(), columns = 's1 s2 s3 s4 s5'.split())\n",
        "print(df1)\n",
        "print(df1['s3'])\n",
        "print(df1[['s1', 's2', 's3']])\n",
        "df1['s6']=df1['s2']+df1['s5']\n",
        "print(df1['s6'])\n",
        "\n",
        "d1 = {'ID' : [33, 44, 66, 77], 'name' : 'kusum ankita sujay namita'.split(), 'profit':[33,55,77,22]}\n",
        "df2 = pd.DataFrame(d1)\n",
        "print(df2)\n",
        "print(df2['ID'])\n",
        "print(df2[['ID', 'name']])\n",
        "df3 = df2.drop('ID', axis = 1)\n",
        "print(df3)\n",
        "print(df2.drop(3))\n",
        "print(df2.drop(2, axis = 0))"
      ],
      "metadata": {
        "colab": {
          "base_uri": "https://localhost:8080/"
        },
        "id": "GF2rS7-N1oOV",
        "outputId": "6429999b-97cd-42c3-b39e-80ce2522f846"
      },
      "execution_count": 50,
      "outputs": [
        {
          "output_type": "stream",
          "name": "stdout",
          "text": [
            "         s1        s2        s3        s4        s5\n",
            "a  0.395601  0.841440  0.067013  0.109853  0.924105\n",
            "b  0.818193  0.699307  0.838516  0.020581  0.279818\n",
            "c  0.146552  0.444211  0.761794  0.037778  0.206109\n",
            "d  0.687892  0.855690  0.607157  0.153458  0.893664\n",
            "e  0.999617  0.122856  0.992911  0.922704  0.992833\n",
            "f  0.584109  0.290550  0.795455  0.613108  0.250886\n",
            "g  0.726152  0.612012  0.940266  0.762015  0.508923\n",
            "h  0.455704  0.105190  0.237413  0.990740  0.384302\n",
            "a    0.067013\n",
            "b    0.838516\n",
            "c    0.761794\n",
            "d    0.607157\n",
            "e    0.992911\n",
            "f    0.795455\n",
            "g    0.940266\n",
            "h    0.237413\n",
            "Name: s3, dtype: float64\n",
            "         s1        s2        s3\n",
            "a  0.395601  0.841440  0.067013\n",
            "b  0.818193  0.699307  0.838516\n",
            "c  0.146552  0.444211  0.761794\n",
            "d  0.687892  0.855690  0.607157\n",
            "e  0.999617  0.122856  0.992911\n",
            "f  0.584109  0.290550  0.795455\n",
            "g  0.726152  0.612012  0.940266\n",
            "h  0.455704  0.105190  0.237413\n",
            "a    1.765545\n",
            "b    0.979125\n",
            "c    0.650320\n",
            "d    1.749353\n",
            "e    1.115689\n",
            "f    0.541436\n",
            "g    1.120935\n",
            "h    0.489492\n",
            "Name: s6, dtype: float64\n",
            "   ID    name  profit\n",
            "0  33   kusum      33\n",
            "1  44  ankita      55\n",
            "2  66   sujay      77\n",
            "3  77  namita      22\n",
            "0    33\n",
            "1    44\n",
            "2    66\n",
            "3    77\n",
            "Name: ID, dtype: int64\n",
            "   ID    name\n",
            "0  33   kusum\n",
            "1  44  ankita\n",
            "2  66   sujay\n",
            "3  77  namita\n",
            "     name  profit\n",
            "0   kusum      33\n",
            "1  ankita      55\n",
            "2   sujay      77\n",
            "3  namita      22\n",
            "   ID    name  profit\n",
            "0  33   kusum      33\n",
            "1  44  ankita      55\n",
            "2  66   sujay      77\n",
            "   ID    name  profit\n",
            "0  33   kusum      33\n",
            "1  44  ankita      55\n",
            "3  77  namita      22\n"
          ]
        }
      ]
    }
  ]
}